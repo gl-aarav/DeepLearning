{
 "nbformat": 4,
 "nbformat_minor": 0,
 "metadata": {
  "colab": {
   "provenance": [],
   "authorship_tag": "ABX9TyN2fBThgo8wJQn6Xf6V6crC"
  },
  "kernelspec": {
   "name": "python3",
   "display_name": "Python 3"
  }
 },
 "cells": [
  {
   "cell_type": "markdown",
   "metadata": {
    "id": "3DR-eO17geWu"
   },
   "source": [
    "# Convolutional Neural Network"
   ]
  },
  {
   "cell_type": "markdown",
   "metadata": {
    "id": "EMefrVPCg-60"
   },
   "source": [
    "### Importing the libraries"
   ]
  },
  {
   "cell_type": "code",
   "metadata": {
    "id": "sCV30xyVhFbE",
    "executionInfo": {
     "status": "ok",
     "timestamp": 1727869696217,
     "user_tz": -240,
     "elapsed": 4097,
     "user": {
      "displayName": "Hadelin de Ponteves",
      "userId": "15047218817161520419"
     }
    },
    "ExecuteTime": {
     "end_time": "2025-07-30T19:16:40.523086Z",
     "start_time": "2025-07-30T19:16:40.506826Z"
    }
   },
   "source": [
    "import tensorflow as tf\n",
    "from tensorflow.keras.preprocessing.image import ImageDataGenerator"
   ],
   "outputs": [],
   "execution_count": 17
  },
  {
   "cell_type": "code",
   "metadata": {
    "id": "FIleuCAjoFD8",
    "colab": {
     "base_uri": "https://localhost:8080/",
     "height": 35
    },
    "executionInfo": {
     "status": "ok",
     "timestamp": 1727869699295,
     "user_tz": -240,
     "elapsed": 612,
     "user": {
      "displayName": "Hadelin de Ponteves",
      "userId": "15047218817161520419"
     }
    },
    "outputId": "9c409700-4a44-4ac5-b45a-374e448511a6",
    "ExecuteTime": {
     "end_time": "2025-07-30T19:16:22.554655Z",
     "start_time": "2025-07-30T19:16:22.503250Z"
    }
   },
   "source": "tf.__version__",
   "outputs": [
    {
     "data": {
      "text/plain": [
       "'2.19.0'"
      ]
     },
     "execution_count": 16,
     "metadata": {},
     "output_type": "execute_result"
    }
   ],
   "execution_count": 16
  },
  {
   "cell_type": "markdown",
   "metadata": {
    "id": "oxQxCBWyoGPE"
   },
   "source": [
    "## Part 1 - Data Preprocessing"
   ]
  },
  {
   "cell_type": "markdown",
   "metadata": {
    "id": "MvE-heJNo3GG"
   },
   "source": [
    "### Preprocessing the Training set"
   ]
  },
  {
   "cell_type": "code",
   "metadata": {
    "id": "0koUcJMJpEBD",
    "colab": {
     "base_uri": "https://localhost:8080/"
    },
    "executionInfo": {
     "status": "ok",
     "timestamp": 1727869709542,
     "user_tz": -240,
     "elapsed": 404,
     "user": {
      "displayName": "Hadelin de Ponteves",
      "userId": "15047218817161520419"
     }
    },
    "outputId": "12d2b27d-22f4-4af3-833f-5ca0cd00336c",
    "ExecuteTime": {
     "end_time": "2025-07-30T17:49:33.360145Z",
     "start_time": "2025-07-30T17:49:33.147844Z"
    }
   },
   "source": [
    "train_datagen = ImageDataGenerator(rescale = 1./255,\n",
    "                                   shear_range = 0.2,\n",
    "                                   zoom_range = 0.2,\n",
    "                                   horizontal_flip = True)\n",
    "training_set = train_datagen.flow_from_directory('dataset/training_set',\n",
    "                                                 target_size = (64, 64),\n",
    "                                                 batch_size = 32,\n",
    "                                                 class_mode = 'binary')"
   ],
   "outputs": [
    {
     "name": "stdout",
     "output_type": "stream",
     "text": [
      "Found 8000 images belonging to 2 classes.\n"
     ]
    }
   ],
   "execution_count": 3
  },
  {
   "cell_type": "markdown",
   "metadata": {
    "id": "mrCMmGw9pHys"
   },
   "source": [
    "### Preprocessing the Test set"
   ]
  },
  {
   "cell_type": "code",
   "metadata": {
    "id": "SH4WzfOhpKc3",
    "colab": {
     "base_uri": "https://localhost:8080/"
    },
    "executionInfo": {
     "status": "ok",
     "timestamp": 1727869749266,
     "user_tz": -240,
     "elapsed": 432,
     "user": {
      "displayName": "Hadelin de Ponteves",
      "userId": "15047218817161520419"
     }
    },
    "outputId": "eefdf71b-6707-4ad0-99db-04603d820197",
    "ExecuteTime": {
     "end_time": "2025-07-30T17:49:33.469123Z",
     "start_time": "2025-07-30T17:49:33.396800Z"
    }
   },
   "source": [
    "test_datagen = ImageDataGenerator(rescale = 1./255)\n",
    "test_set = test_datagen.flow_from_directory('dataset/test_set',\n",
    "                                            target_size = (64, 64),\n",
    "                                            batch_size = 32,\n",
    "                                            class_mode = 'binary')"
   ],
   "outputs": [
    {
     "name": "stdout",
     "output_type": "stream",
     "text": [
      "Found 2000 images belonging to 2 classes.\n"
     ]
    }
   ],
   "execution_count": 4
  },
  {
   "cell_type": "markdown",
   "metadata": {
    "id": "af8O4l90gk7B"
   },
   "source": [
    "## Part 2 - Building the CNN"
   ]
  },
  {
   "cell_type": "markdown",
   "metadata": {
    "id": "ces1gXY2lmoX"
   },
   "source": [
    "### Initialising the CNN"
   ]
  },
  {
   "cell_type": "code",
   "metadata": {
    "id": "SAUt4UMPlhLS",
    "executionInfo": {
     "status": "ok",
     "timestamp": 1727869817668,
     "user_tz": -240,
     "elapsed": 470,
     "user": {
      "displayName": "Hadelin de Ponteves",
      "userId": "15047218817161520419"
     }
    },
    "ExecuteTime": {
     "end_time": "2025-07-30T17:49:33.494575Z",
     "start_time": "2025-07-30T17:49:33.486315Z"
    }
   },
   "source": [
    "cnn = tf.keras.models.Sequential()"
   ],
   "outputs": [],
   "execution_count": 5
  },
  {
   "cell_type": "markdown",
   "metadata": {
    "id": "u5YJj_XMl5LF"
   },
   "source": [
    "### Step 1 - Convolution"
   ]
  },
  {
   "cell_type": "code",
   "metadata": {
    "id": "XPzPrMckl-hV",
    "colab": {
     "base_uri": "https://localhost:8080/"
    },
    "executionInfo": {
     "status": "ok",
     "timestamp": 1727869820333,
     "user_tz": -240,
     "elapsed": 415,
     "user": {
      "displayName": "Hadelin de Ponteves",
      "userId": "15047218817161520419"
     }
    },
    "outputId": "329e2f0a-ec6c-4b72-c6ad-000f7ba7cda6",
    "ExecuteTime": {
     "end_time": "2025-07-30T17:49:33.645181Z",
     "start_time": "2025-07-30T17:49:33.586609Z"
    }
   },
   "source": [
    "cnn.add(tf.keras.layers.Conv2D(filters=32, kernel_size=3, activation='relu', input_shape=[64, 64, 3]))"
   ],
   "outputs": [
    {
     "name": "stderr",
     "output_type": "stream",
     "text": [
      "/Users/aaravgoyal/Library/Python/3.9/lib/python/site-packages/keras/src/layers/convolutional/base_conv.py:113: UserWarning: Do not pass an `input_shape`/`input_dim` argument to a layer. When using Sequential models, prefer using an `Input(shape)` object as the first layer in the model instead.\n",
      "  super().__init__(activity_regularizer=activity_regularizer, **kwargs)\n"
     ]
    }
   ],
   "execution_count": 6
  },
  {
   "cell_type": "markdown",
   "metadata": {
    "id": "tf87FpvxmNOJ"
   },
   "source": [
    "### Step 2 - Pooling"
   ]
  },
  {
   "cell_type": "code",
   "metadata": {
    "id": "ncpqPl69mOac",
    "executionInfo": {
     "status": "ok",
     "timestamp": 1727869823557,
     "user_tz": -240,
     "elapsed": 637,
     "user": {
      "displayName": "Hadelin de Ponteves",
      "userId": "15047218817161520419"
     }
    },
    "ExecuteTime": {
     "end_time": "2025-07-30T17:49:33.661954Z",
     "start_time": "2025-07-30T17:49:33.658229Z"
    }
   },
   "source": [
    "cnn.add(tf.keras.layers.MaxPool2D(pool_size=2, strides=2))"
   ],
   "outputs": [],
   "execution_count": 7
  },
  {
   "cell_type": "markdown",
   "metadata": {
    "id": "xaTOgD8rm4mU"
   },
   "source": [
    "### Adding a second convolutional layer"
   ]
  },
  {
   "cell_type": "code",
   "metadata": {
    "id": "i_-FZjn_m8gk",
    "executionInfo": {
     "status": "ok",
     "timestamp": 1727869826266,
     "user_tz": -240,
     "elapsed": 406,
     "user": {
      "displayName": "Hadelin de Ponteves",
      "userId": "15047218817161520419"
     }
    },
    "ExecuteTime": {
     "end_time": "2025-07-30T17:49:33.761309Z",
     "start_time": "2025-07-30T17:49:33.677309Z"
    }
   },
   "source": [
    "cnn.add(tf.keras.layers.Conv2D(filters=32, kernel_size=3, activation='relu'))\n",
    "cnn.add(tf.keras.layers.MaxPool2D(pool_size=2, strides=2))"
   ],
   "outputs": [],
   "execution_count": 8
  },
  {
   "cell_type": "markdown",
   "metadata": {
    "id": "tmiEuvTunKfk"
   },
   "source": [
    "### Step 3 - Flattening"
   ]
  },
  {
   "cell_type": "code",
   "metadata": {
    "id": "6AZeOGCvnNZn",
    "executionInfo": {
     "status": "ok",
     "timestamp": 1727869828932,
     "user_tz": -240,
     "elapsed": 617,
     "user": {
      "displayName": "Hadelin de Ponteves",
      "userId": "15047218817161520419"
     }
    },
    "ExecuteTime": {
     "end_time": "2025-07-30T17:49:33.773153Z",
     "start_time": "2025-07-30T17:49:33.767404Z"
    }
   },
   "source": [
    "cnn.add(tf.keras.layers.Flatten())"
   ],
   "outputs": [],
   "execution_count": 9
  },
  {
   "cell_type": "markdown",
   "metadata": {
    "id": "dAoSECOm203v"
   },
   "source": [
    "### Step 4 - Full Connection"
   ]
  },
  {
   "cell_type": "code",
   "metadata": {
    "id": "8GtmUlLd26Nq",
    "executionInfo": {
     "status": "ok",
     "timestamp": 1727869831487,
     "user_tz": -240,
     "elapsed": 384,
     "user": {
      "displayName": "Hadelin de Ponteves",
      "userId": "15047218817161520419"
     }
    },
    "ExecuteTime": {
     "end_time": "2025-07-30T17:49:33.804349Z",
     "start_time": "2025-07-30T17:49:33.792848Z"
    }
   },
   "source": [
    "cnn.add(tf.keras.layers.Dense(units=128, activation='relu'))"
   ],
   "outputs": [],
   "execution_count": 10
  },
  {
   "cell_type": "markdown",
   "metadata": {
    "id": "yTldFvbX28Na"
   },
   "source": [
    "### Step 5 - Output Layer"
   ]
  },
  {
   "cell_type": "code",
   "metadata": {
    "id": "1p_Zj1Mc3Ko_",
    "executionInfo": {
     "status": "ok",
     "timestamp": 1727870028191,
     "user_tz": -240,
     "elapsed": 433,
     "user": {
      "displayName": "Hadelin de Ponteves",
      "userId": "15047218817161520419"
     }
    },
    "ExecuteTime": {
     "end_time": "2025-07-30T17:49:33.818439Z",
     "start_time": "2025-07-30T17:49:33.811365Z"
    }
   },
   "source": [
    "cnn.add(tf.keras.layers.Dense(units=1, activation='sigmoid'))"
   ],
   "outputs": [],
   "execution_count": 11
  },
  {
   "cell_type": "markdown",
   "metadata": {
    "id": "D6XkI90snSDl"
   },
   "source": [
    "## Part 3 - Training the CNN"
   ]
  },
  {
   "cell_type": "markdown",
   "metadata": {
    "id": "vfrFQACEnc6i"
   },
   "source": [
    "### Compiling the CNN"
   ]
  },
  {
   "cell_type": "code",
   "metadata": {
    "id": "NALksrNQpUlJ",
    "executionInfo": {
     "status": "ok",
     "timestamp": 1727870049309,
     "user_tz": -240,
     "elapsed": 416,
     "user": {
      "displayName": "Hadelin de Ponteves",
      "userId": "15047218817161520419"
     }
    },
    "ExecuteTime": {
     "end_time": "2025-07-30T17:49:33.830498Z",
     "start_time": "2025-07-30T17:49:33.826107Z"
    }
   },
   "source": [
    "cnn.compile(optimizer = 'adam', loss = 'binary_crossentropy', metrics = ['accuracy'])"
   ],
   "outputs": [],
   "execution_count": 12
  },
  {
   "cell_type": "markdown",
   "metadata": {
    "id": "ehS-v3MIpX2h"
   },
   "source": [
    "### Training the CNN on the Training set and evaluating it on the Test set"
   ]
  },
  {
   "cell_type": "code",
   "metadata": {
    "id": "XUj1W4PJptta",
    "colab": {
     "base_uri": "https://localhost:8080/"
    },
    "executionInfo": {
     "status": "ok",
     "timestamp": 1727870127564,
     "user_tz": -240,
     "elapsed": 53294,
     "user": {
      "displayName": "Hadelin de Ponteves",
      "userId": "15047218817161520419"
     }
    },
    "outputId": "6af733bf-672f-4229-efe2-f0847b4118e7",
    "ExecuteTime": {
     "end_time": "2025-07-30T17:54:59.849968Z",
     "start_time": "2025-07-30T17:49:33.837435Z"
    }
   },
   "source": [
    "cnn.fit(x = training_set, validation_data = test_set, epochs = 25)"
   ],
   "outputs": [
    {
     "name": "stdout",
     "output_type": "stream",
     "text": [
      "Epoch 1/25\n"
     ]
    },
    {
     "name": "stderr",
     "output_type": "stream",
     "text": [
      "/Users/aaravgoyal/Library/Python/3.9/lib/python/site-packages/keras/src/trainers/data_adapters/py_dataset_adapter.py:121: UserWarning: Your `PyDataset` class should call `super().__init__(**kwargs)` in its constructor. `**kwargs` can include `workers`, `use_multiprocessing`, `max_queue_size`. Do not pass these arguments to `fit()`, as they will be ignored.\n",
      "  self._warn_if_super_not_called()\n"
     ]
    },
    {
     "name": "stdout",
     "output_type": "stream",
     "text": [
      "\u001B[1m250/250\u001B[0m \u001B[32m━━━━━━━━━━━━━━━━━━━━\u001B[0m\u001B[37m\u001B[0m \u001B[1m12s\u001B[0m 47ms/step - accuracy: 0.5466 - loss: 0.6841 - val_accuracy: 0.6935 - val_loss: 0.5921\n",
      "Epoch 2/25\n",
      "\u001B[1m250/250\u001B[0m \u001B[32m━━━━━━━━━━━━━━━━━━━━\u001B[0m\u001B[37m\u001B[0m \u001B[1m11s\u001B[0m 43ms/step - accuracy: 0.6845 - loss: 0.5867 - val_accuracy: 0.7280 - val_loss: 0.5421\n",
      "Epoch 3/25\n",
      "\u001B[1m250/250\u001B[0m \u001B[32m━━━━━━━━━━━━━━━━━━━━\u001B[0m\u001B[37m\u001B[0m \u001B[1m11s\u001B[0m 42ms/step - accuracy: 0.7159 - loss: 0.5500 - val_accuracy: 0.6470 - val_loss: 0.6484\n",
      "Epoch 4/25\n",
      "\u001B[1m250/250\u001B[0m \u001B[32m━━━━━━━━━━━━━━━━━━━━\u001B[0m\u001B[37m\u001B[0m \u001B[1m11s\u001B[0m 46ms/step - accuracy: 0.7312 - loss: 0.5247 - val_accuracy: 0.7620 - val_loss: 0.5002\n",
      "Epoch 5/25\n",
      "\u001B[1m250/250\u001B[0m \u001B[32m━━━━━━━━━━━━━━━━━━━━\u001B[0m\u001B[37m\u001B[0m \u001B[1m12s\u001B[0m 48ms/step - accuracy: 0.7577 - loss: 0.4969 - val_accuracy: 0.7580 - val_loss: 0.4917\n",
      "Epoch 6/25\n",
      "\u001B[1m250/250\u001B[0m \u001B[32m━━━━━━━━━━━━━━━━━━━━\u001B[0m\u001B[37m\u001B[0m \u001B[1m12s\u001B[0m 46ms/step - accuracy: 0.7676 - loss: 0.4795 - val_accuracy: 0.7725 - val_loss: 0.4791\n",
      "Epoch 7/25\n",
      "\u001B[1m250/250\u001B[0m \u001B[32m━━━━━━━━━━━━━━━━━━━━\u001B[0m\u001B[37m\u001B[0m \u001B[1m12s\u001B[0m 47ms/step - accuracy: 0.7903 - loss: 0.4519 - val_accuracy: 0.7720 - val_loss: 0.4930\n",
      "Epoch 8/25\n",
      "\u001B[1m250/250\u001B[0m \u001B[32m━━━━━━━━━━━━━━━━━━━━\u001B[0m\u001B[37m\u001B[0m \u001B[1m13s\u001B[0m 52ms/step - accuracy: 0.7879 - loss: 0.4481 - val_accuracy: 0.7115 - val_loss: 0.6362\n",
      "Epoch 9/25\n",
      "\u001B[1m250/250\u001B[0m \u001B[32m━━━━━━━━━━━━━━━━━━━━\u001B[0m\u001B[37m\u001B[0m \u001B[1m14s\u001B[0m 54ms/step - accuracy: 0.7975 - loss: 0.4389 - val_accuracy: 0.7780 - val_loss: 0.4937\n",
      "Epoch 10/25\n",
      "\u001B[1m250/250\u001B[0m \u001B[32m━━━━━━━━━━━━━━━━━━━━\u001B[0m\u001B[37m\u001B[0m \u001B[1m12s\u001B[0m 47ms/step - accuracy: 0.8110 - loss: 0.4186 - val_accuracy: 0.7885 - val_loss: 0.4607\n",
      "Epoch 11/25\n",
      "\u001B[1m250/250\u001B[0m \u001B[32m━━━━━━━━━━━━━━━━━━━━\u001B[0m\u001B[37m\u001B[0m \u001B[1m13s\u001B[0m 51ms/step - accuracy: 0.8195 - loss: 0.3932 - val_accuracy: 0.7620 - val_loss: 0.5596\n",
      "Epoch 12/25\n",
      "\u001B[1m250/250\u001B[0m \u001B[32m━━━━━━━━━━━━━━━━━━━━\u001B[0m\u001B[37m\u001B[0m \u001B[1m14s\u001B[0m 55ms/step - accuracy: 0.8159 - loss: 0.3903 - val_accuracy: 0.7325 - val_loss: 0.6206\n",
      "Epoch 13/25\n",
      "\u001B[1m250/250\u001B[0m \u001B[32m━━━━━━━━━━━━━━━━━━━━\u001B[0m\u001B[37m\u001B[0m \u001B[1m14s\u001B[0m 55ms/step - accuracy: 0.8270 - loss: 0.3877 - val_accuracy: 0.7835 - val_loss: 0.5028\n",
      "Epoch 14/25\n",
      "\u001B[1m250/250\u001B[0m \u001B[32m━━━━━━━━━━━━━━━━━━━━\u001B[0m\u001B[37m\u001B[0m \u001B[1m12s\u001B[0m 47ms/step - accuracy: 0.8385 - loss: 0.3579 - val_accuracy: 0.7790 - val_loss: 0.4951\n",
      "Epoch 15/25\n",
      "\u001B[1m250/250\u001B[0m \u001B[32m━━━━━━━━━━━━━━━━━━━━\u001B[0m\u001B[37m\u001B[0m \u001B[1m12s\u001B[0m 48ms/step - accuracy: 0.8310 - loss: 0.3652 - val_accuracy: 0.7820 - val_loss: 0.5106\n",
      "Epoch 16/25\n",
      "\u001B[1m250/250\u001B[0m \u001B[32m━━━━━━━━━━━━━━━━━━━━\u001B[0m\u001B[37m\u001B[0m \u001B[1m12s\u001B[0m 48ms/step - accuracy: 0.8477 - loss: 0.3490 - val_accuracy: 0.7940 - val_loss: 0.4909\n",
      "Epoch 17/25\n",
      "\u001B[1m250/250\u001B[0m \u001B[32m━━━━━━━━━━━━━━━━━━━━\u001B[0m\u001B[37m\u001B[0m \u001B[1m12s\u001B[0m 48ms/step - accuracy: 0.8520 - loss: 0.3341 - val_accuracy: 0.7915 - val_loss: 0.4820\n",
      "Epoch 18/25\n",
      "\u001B[1m250/250\u001B[0m \u001B[32m━━━━━━━━━━━━━━━━━━━━\u001B[0m\u001B[37m\u001B[0m \u001B[1m15s\u001B[0m 60ms/step - accuracy: 0.8572 - loss: 0.3279 - val_accuracy: 0.8050 - val_loss: 0.4659\n",
      "Epoch 19/25\n",
      "\u001B[1m250/250\u001B[0m \u001B[32m━━━━━━━━━━━━━━━━━━━━\u001B[0m\u001B[37m\u001B[0m \u001B[1m14s\u001B[0m 57ms/step - accuracy: 0.8716 - loss: 0.3139 - val_accuracy: 0.7955 - val_loss: 0.4954\n",
      "Epoch 20/25\n",
      "\u001B[1m250/250\u001B[0m \u001B[32m━━━━━━━━━━━━━━━━━━━━\u001B[0m\u001B[37m\u001B[0m \u001B[1m14s\u001B[0m 56ms/step - accuracy: 0.8694 - loss: 0.2971 - val_accuracy: 0.7920 - val_loss: 0.4787\n",
      "Epoch 21/25\n",
      "\u001B[1m250/250\u001B[0m \u001B[32m━━━━━━━━━━━━━━━━━━━━\u001B[0m\u001B[37m\u001B[0m \u001B[1m15s\u001B[0m 58ms/step - accuracy: 0.8737 - loss: 0.2889 - val_accuracy: 0.7970 - val_loss: 0.4945\n",
      "Epoch 22/25\n",
      "\u001B[1m250/250\u001B[0m \u001B[32m━━━━━━━━━━━━━━━━━━━━\u001B[0m\u001B[37m\u001B[0m \u001B[1m17s\u001B[0m 67ms/step - accuracy: 0.8817 - loss: 0.2743 - val_accuracy: 0.8075 - val_loss: 0.4663\n",
      "Epoch 23/25\n",
      "\u001B[1m250/250\u001B[0m \u001B[32m━━━━━━━━━━━━━━━━━━━━\u001B[0m\u001B[37m\u001B[0m \u001B[1m14s\u001B[0m 56ms/step - accuracy: 0.8848 - loss: 0.2664 - val_accuracy: 0.7945 - val_loss: 0.5057\n",
      "Epoch 24/25\n",
      "\u001B[1m250/250\u001B[0m \u001B[32m━━━━━━━━━━━━━━━━━━━━\u001B[0m\u001B[37m\u001B[0m \u001B[1m16s\u001B[0m 65ms/step - accuracy: 0.8923 - loss: 0.2501 - val_accuracy: 0.7730 - val_loss: 0.5797\n",
      "Epoch 25/25\n",
      "\u001B[1m250/250\u001B[0m \u001B[32m━━━━━━━━━━━━━━━━━━━━\u001B[0m\u001B[37m\u001B[0m \u001B[1m14s\u001B[0m 56ms/step - accuracy: 0.8965 - loss: 0.2464 - val_accuracy: 0.7995 - val_loss: 0.5152\n"
     ]
    },
    {
     "data": {
      "text/plain": [
       "<keras.src.callbacks.history.History at 0x16e84f070>"
      ]
     },
     "execution_count": 13,
     "metadata": {},
     "output_type": "execute_result"
    }
   ],
   "execution_count": 13
  },
  {
   "cell_type": "markdown",
   "metadata": {
    "id": "U3PZasO0006Z"
   },
   "source": [
    "## Part 4 - Making a single prediction"
   ]
  },
  {
   "cell_type": "code",
   "metadata": {
    "id": "gsSiWEJY1BPB",
    "colab": {
     "base_uri": "https://localhost:8080/"
    },
    "executionInfo": {
     "status": "ok",
     "timestamp": 1727870175470,
     "user_tz": -240,
     "elapsed": 553,
     "user": {
      "displayName": "Hadelin de Ponteves",
      "userId": "15047218817161520419"
     }
    },
    "outputId": "3a1eabe0-aa2b-48ac-cc6e-a32906dbf08e",
    "ExecuteTime": {
     "end_time": "2025-07-30T17:55:00.416670Z",
     "start_time": "2025-07-30T17:55:00.133431Z"
    }
   },
   "source": [
    "import numpy as np\n",
    "from tensorflow.keras.preprocessing import image\n",
    "test_image = image.load_img('dataset/single_prediction/cat_or_dog_1.jpg', target_size = (64, 64))\n",
    "test_image = image.img_to_array(test_image)\n",
    "test_image = np.expand_dims(test_image, axis = 0)\n",
    "result = cnn.predict(test_image)\n",
    "training_set.class_indices\n",
    "if result[0][0] == 1:\n",
    "  prediction = 'dog'\n",
    "else:\n",
    "  prediction = 'cat'"
   ],
   "outputs": [
    {
     "name": "stdout",
     "output_type": "stream",
     "text": [
      "\u001B[1m1/1\u001B[0m \u001B[32m━━━━━━━━━━━━━━━━━━━━\u001B[0m\u001B[37m\u001B[0m \u001B[1m0s\u001B[0m 65ms/step\n"
     ]
    }
   ],
   "execution_count": 14
  },
  {
   "cell_type": "code",
   "metadata": {
    "id": "ED9KB3I54c1i",
    "colab": {
     "base_uri": "https://localhost:8080/"
    },
    "executionInfo": {
     "status": "ok",
     "timestamp": 1727870200094,
     "user_tz": -240,
     "elapsed": 402,
     "user": {
      "displayName": "Hadelin de Ponteves",
      "userId": "15047218817161520419"
     }
    },
    "outputId": "7f130fcb-f755-463d-c743-b9d3565b5e97",
    "ExecuteTime": {
     "end_time": "2025-07-30T19:21:42.995817Z",
     "start_time": "2025-07-30T19:21:42.980655Z"
    }
   },
   "source": "prediction",
   "outputs": [
    {
     "data": {
      "text/plain": [
       "'dog'"
      ]
     },
     "execution_count": 18,
     "metadata": {},
     "output_type": "execute_result"
    }
   ],
   "execution_count": 18
  },
  {
   "metadata": {},
   "cell_type": "code",
   "outputs": [],
   "execution_count": null,
   "source": ""
  }
 ]
}
